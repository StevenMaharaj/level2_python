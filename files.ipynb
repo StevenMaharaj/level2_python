{
 "cells": [
  {
   "cell_type": "markdown",
   "id": "bac127b1",
   "metadata": {},
   "source": [
    "# 📘 Python Tutorial: Reading and Writing Files\n",
    "\n",
    "## 📂 1. Opening a File\n",
    "\n",
    "Python uses the built-in `open()` function:\n",
    "\n",
    "```python\n",
    "file = open(\"example.txt\", \"r\")  # \"r\" = read mode\n",
    "```\n",
    "\n",
    "### Modes:\n",
    "\n",
    "| Mode | Description              |\n",
    "| ---- | ------------------------ |\n",
    "| `r`  | Read                     |\n",
    "| `w`  | Write (overwrite)        |\n",
    "| `a`  | Append                   |\n",
    "| `r+` | Read and write           |\n",
    "| `b`  | Binary mode (add to any) |\n",
    "---"
   ]
  },
  {
   "cell_type": "markdown",
   "id": "4794de6c",
   "metadata": {},
   "source": [
    "\n",
    "\n",
    "## 📖 2. Reading from a File\n",
    "\n",
    "### Read entire content:\n"
   ]
  },
  {
   "cell_type": "code",
   "execution_count": 2,
   "id": "defe3697",
   "metadata": {},
   "outputs": [
    {
     "name": "stdout",
     "output_type": "stream",
     "text": [
      "This is the example text\n"
     ]
    }
   ],
   "source": [
    "\n",
    "with open(\"example.txt\", \"r\") as file:\n",
    "    content = file.read()\n",
    "    print(content)"
   ]
  },
  {
   "cell_type": "markdown",
   "id": "f5b5b5e1",
   "metadata": {},
   "source": [
    "\n",
    "### Read line by line:"
   ]
  },
  {
   "cell_type": "code",
   "execution_count": 3,
   "id": "78dbae47",
   "metadata": {},
   "outputs": [
    {
     "name": "stdout",
     "output_type": "stream",
     "text": [
      "This is the example text\n",
      "This is the second line\n",
      "Code trader is the best place to learn trading\n"
     ]
    }
   ],
   "source": [
    "with open(\"example.txt\", \"r\") as file:\n",
    "    for line in file:\n",
    "        print(line.strip())\n"
   ]
  },
  {
   "cell_type": "markdown",
   "id": "0704655d",
   "metadata": {},
   "source": [
    "\n",
    "---\n",
    "\n",
    "## ✍️ 3. Writing to a File\n",
    "\n",
    "### Overwrite with `w`:\n"
   ]
  },
  {
   "cell_type": "code",
   "execution_count": null,
   "id": "9a89251f",
   "metadata": {},
   "outputs": [],
   "source": [
    "\n",
    "with open(\"output.txt\", \"w\") as file:\n",
    "    file.write(\"Hello, World!\\n\")\n",
    "    file.write(\"Second line.\\n\")"
   ]
  },
  {
   "cell_type": "markdown",
   "id": "1b45d341",
   "metadata": {},
   "source": [
    "\n",
    "### Append with `a`:"
   ]
  },
  {
   "cell_type": "code",
   "execution_count": 5,
   "id": "bbdb3662",
   "metadata": {},
   "outputs": [],
   "source": [
    "with open(\"output.txt\", \"a\") as file:\n",
    "    file.write(\"This line is added later.\\n\")"
   ]
  },
  {
   "cell_type": "markdown",
   "id": "e198c152",
   "metadata": {},
   "source": [
    "\n",
    "---\n",
    "\n",
    "## 🔁 4. Reading and Writing JSON Files\n",
    "\n",
    "### Writing JSON:\n"
   ]
  },
  {
   "cell_type": "code",
   "execution_count": 6,
   "id": "d0e5d4d1",
   "metadata": {},
   "outputs": [],
   "source": [
    "\n",
    "import json\n",
    "\n",
    "data = {\"name\": \"Alice\", \"age\": 30}\n",
    "\n",
    "with open(\"data.json\", \"w\") as f:\n",
    "    json.dump(data, f)\n"
   ]
  },
  {
   "cell_type": "markdown",
   "id": "f6f91e9b",
   "metadata": {},
   "source": [
    "\n",
    "### Reading JSON:"
   ]
  },
  {
   "cell_type": "code",
   "execution_count": 7,
   "id": "6687181b",
   "metadata": {},
   "outputs": [
    {
     "name": "stdout",
     "output_type": "stream",
     "text": [
      "Alice\n"
     ]
    }
   ],
   "source": [
    "\n",
    "with open(\"data.json\", \"r\") as f:\n",
    "    loaded = json.load(f)\n",
    "    print(loaded[\"name\"])  # Alice\n"
   ]
  },
  {
   "cell_type": "markdown",
   "id": "6aa12910",
   "metadata": {},
   "source": [
    "---\n",
    "## ❗ 5. Error Handling"
   ]
  },
  {
   "cell_type": "code",
   "execution_count": 8,
   "id": "8c836736",
   "metadata": {},
   "outputs": [
    {
     "name": "stdout",
     "output_type": "stream",
     "text": [
      "File does not exist.\n"
     ]
    }
   ],
   "source": [
    "\n",
    "try:\n",
    "    with open(\"notfound.txt\", \"r\") as file:\n",
    "        content = file.read()\n",
    "except FileNotFoundError:\n",
    "    print(\"File does not exist.\")"
   ]
  },
  {
   "cell_type": "markdown",
   "id": "0e3d2263",
   "metadata": {},
   "source": [
    "\n",
    "---\n",
    "\n",
    "## 🧹 6. Tips\n",
    "\n",
    "* Always use `with open(...) as f:` to auto-close files.\n",
    "* Use `.strip()` to remove newline characters when reading.\n",
    "* Use `'wb'` and `'rb'` for binary files (like images)."
   ]
  },
  {
   "cell_type": "markdown",
   "id": "a204522e",
   "metadata": {},
   "source": []
  }
 ],
 "metadata": {
  "kernelspec": {
   "display_name": "level2-python (3.13.5)",
   "language": "python",
   "name": "python3"
  },
  "language_info": {
   "codemirror_mode": {
    "name": "ipython",
    "version": 3
   },
   "file_extension": ".py",
   "mimetype": "text/x-python",
   "name": "python",
   "nbconvert_exporter": "python",
   "pygments_lexer": "ipython3",
   "version": "3.13.5"
  }
 },
 "nbformat": 4,
 "nbformat_minor": 5
}
