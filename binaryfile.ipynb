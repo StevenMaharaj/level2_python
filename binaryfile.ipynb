{
 "cells": [
  {
   "cell_type": "markdown",
   "id": "3b8902f6",
   "metadata": {},
   "source": [
    "# Read trade date\n",
    "\n",
    "- I have been collecting trade data.\n",
    "-\n"
   ]
  }
 ],
 "metadata": {
  "language_info": {
   "name": "python"
  }
 },
 "nbformat": 4,
 "nbformat_minor": 5
}
